{
 "cells": [
  {
   "cell_type": "markdown",
   "metadata": {},
   "source": [
    " WeatherPy\n",
    "\n",
    "\n",
    "\n",
    "Objective\n",
    "Build a series of scatter plots to showcase the following relationships:\n",
    "\n",
    "Temperature (F) vs. Latitude\n",
    "Humidity (%) vs. Latitude\n",
    "Cloudiness (%) vs. Latitude\n",
    "Wind Speed (mph) vs. Latitude\n",
    "\n",
    "Method\n",
    "Randomly select at least 500 unique (non-repeat) cities based on latitude and longitude\n",
    "Perform a weather check on each of the cities using a series of successive API calls\n",
    "Include a print log of each city as it's being processed with the city number, city name, and requested URL\n",
    "Save both a CSV of all data retrieved and png images for each scatter plot\n",
    "\n",
    "\n",
    "Analysis\n",
    "From the latitude vs temperature plot you can see that it is hotter near the equator. Also noteworthy--the temperatures are much cooler in the positive latitudes due to the season. Winter has just finished north of the equator (positive latitudes) and summer has just ended south of the equator (negative latitudes).\n",
    "There does not seem to be a relationship between latitude and humidity, cloudiness, or windspeed.\n",
    "While this is a representative model of weather in cities across the world, it is only a snapshot of one day's weather. A yearly or even longer historical view could offer more insight.\n"
   ]
  },
  {
   "cell_type": "code",
   "execution_count": 1,
   "metadata": {
    "scrolled": true
   },
   "outputs": [],
   "source": [
    "# Dependencies and Setup\n",
    "import matplotlib.pyplot as plt\n",
    "import pandas as pd\n",
    "import numpy as np\n",
    "import requests\n",
    "import datetime\n",
    "import time\n",
    "\n",
    "# Import API key\n",
    "from api_keys import api_key\n",
    "\n",
    "# Incorporated citipy to determine city based on latitude and longitude\n",
    "from citipy import citipy\n",
    "\n",
    "# Output File (CSV)\n",
    "output_data_file = \"output_data/cities.csv\"\n",
    "\n",
    "# Range of latitudes and longitudes\n",
    "lat_range = (-90, 90)\n",
    "lng_range = (-180, 180)"
   ]
  },
  {
   "cell_type": "markdown",
   "metadata": {},
   "source": [
    "## Generate Cities List"
   ]
  },
  {
   "cell_type": "code",
   "execution_count": 2,
   "metadata": {},
   "outputs": [
    {
     "data": {
      "text/plain": [
       "602"
      ]
     },
     "execution_count": 2,
     "metadata": {},
     "output_type": "execute_result"
    }
   ],
   "source": [
    "# List for holding lat_lngs and cities\n",
    "lat_lngs = []\n",
    "cities = []\n",
    "lat_lng_list=[]\n",
    "\n",
    "# Create a set of random lat and lng combinations\n",
    "lats = np.random.uniform(low=-90.000, high=90.000, size=1500)\n",
    "lngs = np.random.uniform(low=-180.000, high=180.000, size=1500)\n",
    "lat_lngs = zip(lats, lngs)\n",
    "\n",
    "# Identify nearest city for each lat, lng combination\n",
    "for lat_lng in lat_lngs:\n",
    "    city = citipy.nearest_city(lat_lng[0], lat_lng[1]).city_name\n",
    "    \n",
    "    # If the city is unique, then add it to a our cities list\n",
    "    if city not in cities:\n",
    "        cities.append(city)\n",
    "        lat_lng_list.append(lat_lng)\n",
    "# Print the city count to confirm sufficient count\n",
    "len(cities)\n"
   ]
  },
  {
   "cell_type": "code",
   "execution_count": 3,
   "metadata": {},
   "outputs": [
    {
     "data": {
      "text/html": [
       "<div>\n",
       "<style scoped>\n",
       "    .dataframe tbody tr th:only-of-type {\n",
       "        vertical-align: middle;\n",
       "    }\n",
       "\n",
       "    .dataframe tbody tr th {\n",
       "        vertical-align: top;\n",
       "    }\n",
       "\n",
       "    .dataframe thead th {\n",
       "        text-align: right;\n",
       "    }\n",
       "</style>\n",
       "<table border=\"1\" class=\"dataframe\">\n",
       "  <thead>\n",
       "    <tr style=\"text-align: right;\">\n",
       "      <th></th>\n",
       "      <th>city</th>\n",
       "      <th>lat_lngs</th>\n",
       "      <th>lat</th>\n",
       "      <th>long</th>\n",
       "    </tr>\n",
       "  </thead>\n",
       "  <tbody>\n",
       "    <tr>\n",
       "      <th>0</th>\n",
       "      <td>limenaria</td>\n",
       "      <td>(40.42514128943307, 24.581351477219698)</td>\n",
       "      <td>40.42514128943307</td>\n",
       "      <td>24.581351477219698</td>\n",
       "    </tr>\n",
       "    <tr>\n",
       "      <th>1</th>\n",
       "      <td>steamboat springs</td>\n",
       "      <td>(39.88491498328696, -106.80126223422693)</td>\n",
       "      <td>39.88491498328696</td>\n",
       "      <td>-106.80126223422693</td>\n",
       "    </tr>\n",
       "    <tr>\n",
       "      <th>2</th>\n",
       "      <td>atuona</td>\n",
       "      <td>(2.5544056207442765, -140.39977517822172)</td>\n",
       "      <td>2.5544056207442765</td>\n",
       "      <td>-140.39977517822172</td>\n",
       "    </tr>\n",
       "    <tr>\n",
       "      <th>3</th>\n",
       "      <td>pisco</td>\n",
       "      <td>(-25.531510672461025, -98.91052406819993)</td>\n",
       "      <td>-25.531510672461025</td>\n",
       "      <td>-98.91052406819993</td>\n",
       "    </tr>\n",
       "    <tr>\n",
       "      <th>4</th>\n",
       "      <td>caravelas</td>\n",
       "      <td>(-19.16344659401271, -35.08016583355689)</td>\n",
       "      <td>-19.16344659401271</td>\n",
       "      <td>-35.08016583355689</td>\n",
       "    </tr>\n",
       "    <tr>\n",
       "      <th>...</th>\n",
       "      <td>...</td>\n",
       "      <td>...</td>\n",
       "      <td>...</td>\n",
       "      <td>...</td>\n",
       "    </tr>\n",
       "    <tr>\n",
       "      <th>597</th>\n",
       "      <td>behshahr</td>\n",
       "      <td>(36.49641567526359, 53.59285895657456)</td>\n",
       "      <td>36.49641567526359</td>\n",
       "      <td>53.59285895657456</td>\n",
       "    </tr>\n",
       "    <tr>\n",
       "      <th>598</th>\n",
       "      <td>inongo</td>\n",
       "      <td>(-2.251296683659504, 18.511126853119265)</td>\n",
       "      <td>-2.251296683659504</td>\n",
       "      <td>18.511126853119265</td>\n",
       "    </tr>\n",
       "    <tr>\n",
       "      <th>599</th>\n",
       "      <td>ous</td>\n",
       "      <td>(62.498475141751754, 61.338220219368225)</td>\n",
       "      <td>62.498475141751754</td>\n",
       "      <td>61.338220219368225</td>\n",
       "    </tr>\n",
       "    <tr>\n",
       "      <th>600</th>\n",
       "      <td>mossendjo</td>\n",
       "      <td>(-2.7925471331502933, 12.067770272508739)</td>\n",
       "      <td>-2.7925471331502933</td>\n",
       "      <td>12.067770272508739</td>\n",
       "    </tr>\n",
       "    <tr>\n",
       "      <th>601</th>\n",
       "      <td>tambul</td>\n",
       "      <td>(15.542312343664207, 33.824902255978685)</td>\n",
       "      <td>15.542312343664207</td>\n",
       "      <td>33.824902255978685</td>\n",
       "    </tr>\n",
       "  </tbody>\n",
       "</table>\n",
       "<p>602 rows × 4 columns</p>\n",
       "</div>"
      ],
      "text/plain": [
       "                  city                                   lat_lngs  \\\n",
       "0            limenaria    (40.42514128943307, 24.581351477219698)   \n",
       "1    steamboat springs   (39.88491498328696, -106.80126223422693)   \n",
       "2               atuona  (2.5544056207442765, -140.39977517822172)   \n",
       "3                pisco  (-25.531510672461025, -98.91052406819993)   \n",
       "4            caravelas   (-19.16344659401271, -35.08016583355689)   \n",
       "..                 ...                                        ...   \n",
       "597           behshahr     (36.49641567526359, 53.59285895657456)   \n",
       "598             inongo   (-2.251296683659504, 18.511126853119265)   \n",
       "599                ous   (62.498475141751754, 61.338220219368225)   \n",
       "600          mossendjo  (-2.7925471331502933, 12.067770272508739)   \n",
       "601             tambul   (15.542312343664207, 33.824902255978685)   \n",
       "\n",
       "                     lat                 long  \n",
       "0      40.42514128943307   24.581351477219698  \n",
       "1      39.88491498328696  -106.80126223422693  \n",
       "2     2.5544056207442765  -140.39977517822172  \n",
       "3    -25.531510672461025   -98.91052406819993  \n",
       "4     -19.16344659401271   -35.08016583355689  \n",
       "..                   ...                  ...  \n",
       "597    36.49641567526359    53.59285895657456  \n",
       "598   -2.251296683659504   18.511126853119265  \n",
       "599   62.498475141751754   61.338220219368225  \n",
       "600  -2.7925471331502933   12.067770272508739  \n",
       "601   15.542312343664207   33.824902255978685  \n",
       "\n",
       "[602 rows x 4 columns]"
      ]
     },
     "execution_count": 3,
     "metadata": {},
     "output_type": "execute_result"
    }
   ],
   "source": [
    "#put the list of cities in a dataframe \n",
    "weather_df=pd.DataFrame(cities)\n",
    "weather_df=weather_df.rename(columns={0 : \"city\"})\n",
    "#Add lat and lng columns to the Dataframe \n",
    "weather_df['lat_lngs']=lat_lng_list\n",
    "weather_df['lat']=weather_df.lat_lngs.map(lambda x : str(x[0]))\n",
    "weather_df['long']=weather_df.lat_lngs.map(lambda x : str(x[1]))\n",
    "weather_df"
   ]
  },
  {
   "cell_type": "markdown",
   "metadata": {},
   "source": [
    "### Perform API Calls\n",
    "* Perform a weather check on each city using a series of successive API calls.\n",
    "* Include a print log of each city as it'sbeing processed (with the city number and city name).\n"
   ]
  },
  {
   "cell_type": "code",
   "execution_count": 4,
   "metadata": {},
   "outputs": [
    {
     "name": "stdout",
     "output_type": "stream",
     "text": [
      "Beginning Data Retrieval\n",
      "------------------------\n"
     ]
    },
    {
     "data": {
      "text/plain": [
       "{'cod': 401,\n",
       " 'message': 'Invalid API key. Please see http://openweathermap.org/faq#error401 for more info.'}"
      ]
     },
     "execution_count": 4,
     "metadata": {},
     "output_type": "execute_result"
    }
   ],
   "source": [
    "\n",
    "#Create new columns for data we'll be collecting from the API\n",
    "\n",
    "\n",
    "api_key = \"68e7377e5b26f1e041e7045c051ccaf2\"\n",
    "base_url=\" http://api.openweathermap.org/data/2.5/weather\"\n",
    "units = \"imperial\"\n",
    "query_url = f\"{base_url}appid={api_key}&units={units}&q=\"\n",
    "\n",
    "\n",
    "print ('Beginning Data Retrieval')\n",
    "print ('------------------------')\n",
    "\n",
    "#Iterate over each row\n",
    "\n",
    "# for index ,row in weather_df.iterrows():\n",
    "#     city=row['city']\n",
    "#     city = city.replace(\" \", \"&\")\n",
    "response=requests.get(query_url)\n",
    "\n",
    "response.status_code\n",
    "response.json()\n",
    "\n",
    "\n",
    "\n",
    "    \n",
    "#     print(f'Processing Record {index +1 } | {city}')\n",
    "#     print (f'{base_url}appid={api_key}&units={units}&q={city}')\n",
    "#     print (\"----------------------------------------------------------------\")       \n",
    "    #response = requests.get(query_url).json()\n",
    "#    try:\n",
    "#             temp = response[\"main\"][\"temp\"]\n",
    "#             max_temp = response['main']['temp_max']\n",
    "#             min_temp = response['main']['temp_min']\n",
    "#             humid = response[\"main\"][\"humidity\"]\n",
    "#             cloud = response[\"clouds\"][\"all\"]\n",
    "#             wind = response[\"wind\"][\"speed\"]\n",
    "#             city_name = response[\"name\"]\n",
    "#             country_code = response[\"sys\"][\"country\"]\n",
    "#             date = response[\"dt\"]\n",
    "            \n",
    "            \n",
    "#             weather_df['temp'] = temp\n",
    "#             weather_df['max_temp'] = max_temp\n",
    "#             weather_df['humidity'] = humid\n",
    "#             weather_df['wind_speed'] = wind\n",
    "#             weather_df['clouds'] = cloud\n",
    "            \n",
    "#             weather_df.append({\n",
    "#                            'Temperature (F)': temp ,\n",
    "#                            'max_temp' : max_temp,\n",
    "#                            'min_temp' : min_temp,\n",
    "#                            'Humidity (%)' : humid ,\n",
    "#                            'Cloudiness (%)': cloud ,\n",
    "#                            'Wind Speed (mph)' :wind,\n",
    "#                            'Country' : country_code,\n",
    "#                            'Date' :date\n",
    "#                           }\n",
    "#                          )\n",
    "        \n",
    "           \n",
    "#     except:\n",
    "#             print('City not found. Skipping...')\n",
    "#             print (\"----------------------------------------------------------------\")\n",
    "      \n",
    "        \n",
    "# print('-----------------------')\n",
    "# print('Data Retrieval Complete') \n",
    "# print('-----------------------')                  "
   ]
  },
  {
   "cell_type": "markdown",
   "metadata": {},
   "source": [
    "### Convert Raw Data to DataFrame\n",
    "* Export the city data into a .csv.\n",
    "* Display the DataFrame"
   ]
  },
  {
   "cell_type": "code",
   "execution_count": 5,
   "metadata": {},
   "outputs": [
    {
     "data": {
      "text/plain": [
       "city        602\n",
       "lat_lngs    602\n",
       "lat         602\n",
       "long        602\n",
       "dtype: int64"
      ]
     },
     "execution_count": 5,
     "metadata": {},
     "output_type": "execute_result"
    }
   ],
   "source": [
    "weather_df.count()\n",
    "\n"
   ]
  },
  {
   "cell_type": "code",
   "execution_count": 6,
   "metadata": {},
   "outputs": [],
   "source": [
    "\n",
    "# weather_df=pd.DataFrame(weather_df)\n",
    "# weather_df=weather_df[[\"City\", \"Country\",\"Lat\",\"Temperature (F)\", \"Humidity (%)\",\n",
    "#                       \"Cloudiness (%)\", \"Wind Speed (MPH)\"]]\n"
   ]
  },
  {
   "cell_type": "code",
   "execution_count": 7,
   "metadata": {},
   "outputs": [
    {
     "data": {
      "text/plain": [
       "city        602\n",
       "lat_lngs    602\n",
       "lat         602\n",
       "long        602\n",
       "dtype: int64"
      ]
     },
     "execution_count": 7,
     "metadata": {},
     "output_type": "execute_result"
    }
   ],
   "source": [
    "#delete rows where cities have no data\n",
    "weather_df = weather_df.dropna(how='any')\n",
    "\n",
    "#get a count\n",
    "weather_df.count()\n"
   ]
  },
  {
   "cell_type": "code",
   "execution_count": 8,
   "metadata": {},
   "outputs": [],
   "source": [
    "date = datetime.date.today()\n",
    "date = time.strftime(\"%m/%d/%Y\")\n"
   ]
  },
  {
   "cell_type": "code",
   "execution_count": 9,
   "metadata": {},
   "outputs": [],
   "source": [
    "weather_df.Date = date \n",
    "weather_df.lat = weather_df.lat.astype(float)\n"
   ]
  },
  {
   "cell_type": "code",
   "execution_count": 10,
   "metadata": {},
   "outputs": [
    {
     "data": {
      "text/html": [
       "<div>\n",
       "<style scoped>\n",
       "    .dataframe tbody tr th:only-of-type {\n",
       "        vertical-align: middle;\n",
       "    }\n",
       "\n",
       "    .dataframe tbody tr th {\n",
       "        vertical-align: top;\n",
       "    }\n",
       "\n",
       "    .dataframe thead th {\n",
       "        text-align: right;\n",
       "    }\n",
       "</style>\n",
       "<table border=\"1\" class=\"dataframe\">\n",
       "  <thead>\n",
       "    <tr style=\"text-align: right;\">\n",
       "      <th></th>\n",
       "      <th>city</th>\n",
       "      <th>lat_lngs</th>\n",
       "      <th>lat</th>\n",
       "      <th>long</th>\n",
       "    </tr>\n",
       "  </thead>\n",
       "  <tbody>\n",
       "    <tr>\n",
       "      <th>0</th>\n",
       "      <td>limenaria</td>\n",
       "      <td>(40.42514128943307, 24.581351477219698)</td>\n",
       "      <td>40.425141</td>\n",
       "      <td>24.581351477219698</td>\n",
       "    </tr>\n",
       "    <tr>\n",
       "      <th>1</th>\n",
       "      <td>steamboat springs</td>\n",
       "      <td>(39.88491498328696, -106.80126223422693)</td>\n",
       "      <td>39.884915</td>\n",
       "      <td>-106.80126223422693</td>\n",
       "    </tr>\n",
       "    <tr>\n",
       "      <th>2</th>\n",
       "      <td>atuona</td>\n",
       "      <td>(2.5544056207442765, -140.39977517822172)</td>\n",
       "      <td>2.554406</td>\n",
       "      <td>-140.39977517822172</td>\n",
       "    </tr>\n",
       "    <tr>\n",
       "      <th>3</th>\n",
       "      <td>pisco</td>\n",
       "      <td>(-25.531510672461025, -98.91052406819993)</td>\n",
       "      <td>-25.531511</td>\n",
       "      <td>-98.91052406819993</td>\n",
       "    </tr>\n",
       "    <tr>\n",
       "      <th>4</th>\n",
       "      <td>caravelas</td>\n",
       "      <td>(-19.16344659401271, -35.08016583355689)</td>\n",
       "      <td>-19.163447</td>\n",
       "      <td>-35.08016583355689</td>\n",
       "    </tr>\n",
       "  </tbody>\n",
       "</table>\n",
       "</div>"
      ],
      "text/plain": [
       "                city                                   lat_lngs        lat  \\\n",
       "0          limenaria    (40.42514128943307, 24.581351477219698)  40.425141   \n",
       "1  steamboat springs   (39.88491498328696, -106.80126223422693)  39.884915   \n",
       "2             atuona  (2.5544056207442765, -140.39977517822172)   2.554406   \n",
       "3              pisco  (-25.531510672461025, -98.91052406819993) -25.531511   \n",
       "4          caravelas   (-19.16344659401271, -35.08016583355689) -19.163447   \n",
       "\n",
       "                  long  \n",
       "0   24.581351477219698  \n",
       "1  -106.80126223422693  \n",
       "2  -140.39977517822172  \n",
       "3   -98.91052406819993  \n",
       "4   -35.08016583355689  "
      ]
     },
     "execution_count": 10,
     "metadata": {},
     "output_type": "execute_result"
    }
   ],
   "source": [
    "weather_df.head()"
   ]
  },
  {
   "cell_type": "code",
   "execution_count": null,
   "metadata": {},
   "outputs": [],
   "source": []
  },
  {
   "cell_type": "markdown",
   "metadata": {},
   "source": [
    "### Plotting the Data\n",
    "* Use proper labeling of the plots using plot titles (including date of analysis) and axes labels.\n",
    "* Save the plotted figures as .pngs."
   ]
  },
  {
   "cell_type": "markdown",
   "metadata": {},
   "source": [
    "#### Latitude vs. Temperature Plot"
   ]
  },
  {
   "cell_type": "code",
   "execution_count": null,
   "metadata": {},
   "outputs": [],
   "source": []
  },
  {
   "cell_type": "markdown",
   "metadata": {},
   "source": [
    "#### Latitude vs. Humidity Plot"
   ]
  },
  {
   "cell_type": "code",
   "execution_count": null,
   "metadata": {},
   "outputs": [],
   "source": []
  },
  {
   "cell_type": "markdown",
   "metadata": {},
   "source": [
    "#### Latitude vs. Cloudiness Plot"
   ]
  },
  {
   "cell_type": "code",
   "execution_count": null,
   "metadata": {},
   "outputs": [],
   "source": []
  },
  {
   "cell_type": "markdown",
   "metadata": {},
   "source": [
    "#### Latitude vs. Wind Speed Plot"
   ]
  },
  {
   "cell_type": "code",
   "execution_count": null,
   "metadata": {},
   "outputs": [],
   "source": []
  },
  {
   "cell_type": "code",
   "execution_count": null,
   "metadata": {},
   "outputs": [],
   "source": []
  }
 ],
 "metadata": {
  "anaconda-cloud": {},
  "kernel_info": {
   "name": "python3"
  },
  "kernelspec": {
   "display_name": "class_env",
   "language": "python",
   "name": "class_env"
  },
  "language_info": {
   "codemirror_mode": {
    "name": "ipython",
    "version": 3
   },
   "file_extension": ".py",
   "mimetype": "text/x-python",
   "name": "python",
   "nbconvert_exporter": "python",
   "pygments_lexer": "ipython3",
   "version": "3.7.3"
  },
  "nteract": {
   "version": "0.12.3"
  }
 },
 "nbformat": 4,
 "nbformat_minor": 2
}
